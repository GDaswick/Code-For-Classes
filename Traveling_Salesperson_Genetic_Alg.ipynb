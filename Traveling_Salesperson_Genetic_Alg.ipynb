{
 "cells": [
  {
   "cell_type": "code",
   "execution_count": 15,
   "id": "730b9f0e",
   "metadata": {},
   "outputs": [],
   "source": [
    "import numpy as np\n",
    "import matplotlib.pyplot as plt\n",
    "import math\n",
    "import time\n",
    "import random\n",
    "import warnings\n",
    "from sklearn.cluster import MiniBatchKMeans\n",
    "\n",
    "warnings.filterwarnings('ignore')"
   ]
  },
  {
   "cell_type": "markdown",
   "id": "8cdf9e97",
   "metadata": {},
   "source": [
    "# Load Data (Taken from Dr. Krehbiel's Code)"
   ]
  },
  {
   "cell_type": "code",
   "execution_count": 2,
   "id": "9ad1fd7f",
   "metadata": {},
   "outputs": [
    {
     "data": {
      "image/png": "[encoded data removed]",
      "text/plain": [
       "<Figure size 432x288 with 1 Axes>"
      ]
     },
     "metadata": {
      "needs_background": "light"
     },
     "output_type": "display_data"
    }
   ],
   "source": [
    "with open(\"cities.csv\") as datafile:\n",
    "    data = np.loadtxt(datafile, delimiter=\" \")[:,1:] # chop of city indices\n",
    "    \n",
    "N = len(data)\n",
    "    \n",
    "CITIES = np.zeros((N,2)) #Two-dimensional array, one city's coordinates are CITIES[i,:]\n",
    "CITIES[:,0] = -data[:,1]\n",
    "CITIES[:,1] = data[:,0]\n",
    "\n",
    "plt.plot(CITIES[:,0],CITIES[:,1],'.');\n"
   ]
  },
  {
   "cell_type": "markdown",
   "id": "a425cb07",
   "metadata": {},
   "source": [
    "#  Helper Functions (Written by Dr. Krehbiel)"
   ]
  },
  {
   "cell_type": "code",
   "execution_count": 3,
   "id": "0d720c4f",
   "metadata": {},
   "outputs": [],
   "source": [
    "# calculates the distance between city_i and city_j\n",
    "def dist(city_i,city_j):\n",
    "    return math.sqrt((city_i[0]-city_j[0])**2 + (city_i[1]-city_j[1])**2)\n",
    "\n",
    "#tour is a list of integers that coorespond to the number of city\n",
    "def tour_length(cities,tour):\n",
    "    n = len(tour) #altered to make this function work for all tour lengths, rather than the set number of cities (only change)\n",
    "    length = 0\n",
    "    for i in range(1,n): # add dist(i-1,i)\n",
    "        length += dist(cities[tour[i-1],:],cities[tour[i],:])\n",
    "    return length + dist(cities[tour[0],:],cities[tour[n-1],:])"
   ]
  },
  {
   "cell_type": "markdown",
   "id": "78a95e96",
   "metadata": {},
   "source": [
    "## My Own Helper Functions and Variable Declarations"
   ]
  },
  {
   "cell_type": "markdown",
   "id": "6ff37bab",
   "metadata": {},
   "source": [
    "Variables to adjust and mess around with:\n",
    "\n",
    "NUM_FITTEST:     controls the number of the best of the previous population we take into the next generation\n",
    "\n",
    "SAMPLE_NUM:      controls the size of the sample we take when making the breeding pool\n",
    "\n",
    "pop_size:        controls the number of tours we're keeping track of and comparing\n",
    "\n",
    "MAX_ITERATIONS:  the current stopping condition -- the number of iterations\n",
    "\n",
    "MUT_NUM         : 1/MUT_NUM is the chance for any single node to swap with a random other one during mutation"
   ]
  },
  {
   "cell_type": "code",
   "execution_count": 4,
   "id": "8495f54a",
   "metadata": {},
   "outputs": [],
   "source": [
    "pop_size = 10  #the size of your population\n",
    "NUM_FITTEST = int(pop_size/10) #proprtion of your pop to take as best\n",
    "SAMPLE_NUM = 2 #number to sample when randomly selecting for breeding pool\n",
    "MAX_ITERATIONS = 100\n",
    "MUT_NUM = 100"
   ]
  },
  {
   "cell_type": "code",
   "execution_count": 5,
   "id": "3f39407b",
   "metadata": {},
   "outputs": [],
   "source": [
    "num_cities = np.size(CITIES[:,0]) #the number of cities\n",
    "breeding_pool = np.zeros((pop_size, num_cities), dtype = np.uint32)\n",
    "\n",
    "#finds the n fittest cities in the current population\n",
    "def n_fittest(cities, tours, n):\n",
    "    total_num_tours = np.size(tours[:,0])\n",
    "    lengths = np.zeros(total_num_tours) #array of all lengths of permutations\n",
    "    for i in range(total_num_tours):\n",
    "        lengths[i] = tour_length(cities,tours[i,:])\n",
    "        \n",
    "    best_tours = np.zeros((n, np.size(tours[0])))\n",
    "    idx = (-lengths).argsort()[-n:]\n",
    "\n",
    "    for i in range(n):\n",
    "        best_tours[i,:] = tours[idx[i],:]\n",
    "    \n",
    "    return best_tours\n",
    "\n",
    "#return the best of the n samples taken from population\n",
    "def sample_best(cities, samples, n):\n",
    "    lengths = np.zeros(n)\n",
    "    for i in range(n):\n",
    "        lengths[i] = tour_length(cities, samples[i])\n",
    "        \n",
    "    return samples[np.argmin(lengths),:]\n",
    "\n",
    "#returns a child of two tours\n",
    "def crossover(tour_1, tour_2):\n",
    "    child = np.zeros(tour_1.shape)\n",
    "    indices = [random.randint(0,num_cities-1), random.randint(0,num_cities-1)]\n",
    "    indices.sort()\n",
    "    t1_subset = tour_1[indices[0]:indices[1]]\n",
    "    t2_possible = np.isin(tour_2, t1_subset)\n",
    "\n",
    "    next_ind = 0 #keep track of the next index we take from tour_2\n",
    "    for i in range(indices[0]):\n",
    "        while(t2_possible[next_ind]): next_ind += 1\n",
    "        child[i] = tour_2[next_ind]\n",
    "        next_ind += 1\n",
    "    child[indices[0]:indices[1]] = tour_1[indices[0]:indices[1]]\n",
    "    for i in range(indices[1], np.size(tour_1)):\n",
    "        while(t2_possible[next_ind]): next_ind += 1\n",
    "        child[i] = tour_2[next_ind]\n",
    "        next_ind += 1\n",
    "        \n",
    "    return child"
   ]
  },
  {
   "cell_type": "markdown",
   "id": "5a56b6f4",
   "metadata": {},
   "source": [
    "## Genetic Algorithm"
   ]
  },
  {
   "cell_type": "code",
   "execution_count": 16,
   "id": "4f9e78f7",
   "metadata": {},
   "outputs": [
    {
     "name": "stdout",
     "output_type": "stream",
     "text": [
      "Iteration  0 took 15.148933172225952 seconds\n",
      "Iteration  1 took 14.981434106826782 seconds\n",
      "Iteration  2 took 14.547998905181885 seconds\n",
      "Iteration  3 took 14.185792207717896 seconds\n",
      "Iteration  4 took 14.760297536849976 seconds\n",
      "Iteration  5 took 14.578983306884766 seconds\n",
      "Iteration  6 took 14.487766981124878 seconds\n",
      "Iteration  7 took 14.54003620147705 seconds\n",
      "Iteration  8 took 14.40021800994873 seconds\n",
      "Iteration  9 took 14.650184631347656 seconds\n",
      "Iteration  10 took 14.31798505783081 seconds\n",
      "Iteration  11 took 14.3995943069458 seconds\n",
      "Iteration  12 took 14.041662454605103 seconds\n",
      "Iteration  13 took 13.723401308059692 seconds\n",
      "Iteration  14 took 15.179754257202148 seconds\n",
      "Iteration  15 took 14.297964334487915 seconds\n",
      "Iteration  16 took 14.237957000732422 seconds\n",
      "Iteration  17 took 14.04922342300415 seconds\n",
      "Iteration  18 took 14.167249202728271 seconds\n",
      "Iteration  19 took 14.312740564346313 seconds\n",
      "Iteration  20 took 13.83890700340271 seconds\n",
      "Iteration  21 took 14.796777248382568 seconds\n",
      "Iteration  22 took 14.817804336547852 seconds\n",
      "Iteration  23 took 14.774944067001343 seconds\n",
      "Iteration  24 took 14.448608636856079 seconds\n",
      "Iteration  25 took 13.577817916870117 seconds\n",
      "Iteration  26 took 14.705348014831543 seconds\n",
      "Iteration  27 took 13.872581243515015 seconds\n",
      "Iteration  28 took 14.739706993103027 seconds\n",
      "Iteration  29 took 14.764133930206299 seconds\n",
      "Iteration  30 took 14.652959823608398 seconds\n",
      "Iteration  31 took 14.937867164611816 seconds\n",
      "Iteration  32 took 13.869301080703735 seconds\n",
      "Iteration  33 took 14.9369215965271 seconds\n",
      "Iteration  34 took 14.999974727630615 seconds\n",
      "Iteration  35 took 15.29542350769043 seconds\n",
      "Iteration  36 took 15.183611631393433 seconds\n",
      "Iteration  37 took 14.366823673248291 seconds\n",
      "Iteration  38 took 15.16565489768982 seconds\n",
      "Iteration  39 took 14.759295225143433 seconds\n",
      "Iteration  40 took 14.082865476608276 seconds\n",
      "Iteration  41 took 15.476348400115967 seconds\n",
      "Iteration  42 took 15.186352968215942 seconds\n",
      "Iteration  43 took 15.455352306365967 seconds\n",
      "Iteration  44 took 14.979671955108643 seconds\n",
      "Iteration  45 took 15.222776651382446 seconds\n",
      "Iteration  46 took 13.865015983581543 seconds\n",
      "Iteration  47 took 14.777774810791016 seconds\n",
      "Iteration  48 took 16.02116823196411 seconds\n",
      "Iteration  49 took 15.499199867248535 seconds\n",
      "Iteration  50 took 13.833945274353027 seconds\n",
      "Iteration  51 took 15.176590204238892 seconds\n",
      "Iteration  52 took 15.660587787628174 seconds\n",
      "Iteration  53 took 15.108316898345947 seconds\n",
      "Iteration  54 took 15.753013134002686 seconds\n",
      "Iteration  55 took 16.160309553146362 seconds\n",
      "Iteration  56 took 16.29874300956726 seconds\n",
      "Iteration  57 took 14.186057090759277 seconds\n",
      "Iteration  58 took 16.177398204803467 seconds\n",
      "Iteration  59 took 14.095381736755371 seconds\n",
      "Iteration  60 took 15.308546304702759 seconds\n",
      "Iteration  61 took 15.209385395050049 seconds\n",
      "Iteration  62 took 15.50062894821167 seconds\n",
      "Iteration  63 took 16.113404989242554 seconds\n",
      "Iteration  64 took 16.2185480594635 seconds\n",
      "Iteration  65 took 13.701160430908203 seconds\n",
      "Iteration  66 took 15.503490447998047 seconds\n",
      "Iteration  67 took 15.94215703010559 seconds\n",
      "Iteration  68 took 15.435411214828491 seconds\n",
      "Iteration  69 took 15.63167691230774 seconds\n",
      "Iteration  70 took 14.102969646453857 seconds\n",
      "Iteration  71 took 15.83290410041809 seconds\n",
      "Iteration  72 took 15.208738088607788 seconds\n",
      "Iteration  73 took 14.973193645477295 seconds\n",
      "Iteration  74 took 14.723659038543701 seconds\n",
      "Iteration  75 took 15.920000791549683 seconds\n",
      "Iteration  76 took 16.073721408843994 seconds\n",
      "Iteration  77 took 14.930649042129517 seconds\n",
      "Iteration  78 took 15.325332880020142 seconds\n",
      "Iteration  79 took 15.440052032470703 seconds\n",
      "Iteration  80 took 16.569600105285645 seconds\n",
      "Iteration  81 took 15.989933967590332 seconds\n",
      "Iteration  82 took 15.549940347671509 seconds\n",
      "Iteration  83 took 15.950857877731323 seconds\n",
      "Iteration  84 took 15.362725734710693 seconds\n",
      "Iteration  85 took 15.152669906616211 seconds\n",
      "Iteration  86 took 16.588404417037964 seconds\n",
      "Iteration  87 took 15.716708898544312 seconds\n",
      "Iteration  88 took 16.016526222229004 seconds\n",
      "Iteration  89 took 16.771735429763794 seconds\n",
      "Iteration  90 took 16.574110507965088 seconds\n",
      "Iteration  91 took 17.547853708267212 seconds\n",
      "Iteration  92 took 16.152194499969482 seconds\n",
      "Iteration  93 took 16.665807962417603 seconds\n",
      "Iteration  94 took 17.507081985473633 seconds\n",
      "Iteration  95 took 16.209260940551758 seconds\n",
      "Iteration  96 took 17.352559328079224 seconds\n",
      "Iteration  97 took 16.342432022094727 seconds\n",
      "Iteration  98 took 16.39093542098999 seconds\n",
      "Iteration  99 took 17.788943767547607 seconds\n",
      "Wall time: 25min 19s\n"
     ]
    },
    {
     "data": {
      "text/plain": [
       "[<matplotlib.lines.Line2D at 0x1deb2437820>]"
      ]
     },
     "execution_count": 16,
     "metadata": {},
     "output_type": "execute_result"
    },
    {
     "data": {
      "image/png": "[encoded data removed]",
      "text/plain": [
       "<Figure size 540x252 with 1 Axes>"
      ]
     },
     "metadata": {
      "needs_background": "light"
     },
     "output_type": "display_data"
    }
   ],
   "source": [
    "%%time\n",
    "#Look above for control variables that have an effect on the time/quality of the algorithm\n",
    "best_times = np.zeros(MAX_ITERATIONS)\n",
    "times = np.zeros(pop_size)\n",
    "\n",
    "#Initialize the population\n",
    "pop = np.zeros((pop_size, num_cities), dtype = np.uint32) #rows correspond to a permutation\n",
    "tour = np.array(range(num_cities)) #used to make other random tours\n",
    "for i in range(pop_size):\n",
    "    np.random.shuffle(tour)\n",
    "    pop[i,:] = tour[:]\n",
    "\n",
    "#running the algorithm\n",
    "iterations = 0\n",
    "whole_thing_start = time.time()\n",
    "while(iterations < MAX_ITERATIONS):\n",
    "    start = time.time()\n",
    "    \n",
    "    #shoutout Sam for the k-means idea\n",
    "    NUM_CLUSTERS = (iterations+1)*5\n",
    "    #From the sklearn library, assigns each datapoint in CITIES to one of the 2*(ITERATIONS+1) clusters\n",
    "    kmeans = MiniBatchKMeans(n_clusters = NUM_CLUSTERS, batch_size = 1024).fit(CITIES)\n",
    "    #labels_ outputs a list of size len(CITIES) where the indices correspond and contain\n",
    "                                        #which cluster the city in index i is in\n",
    "    labels = np.array(kmeans.labels_)\n",
    "    cluster_t = []\n",
    "    for i in range(NUM_CLUSTERS):\n",
    "        cluster_t = cluster_t + list(np.where(labels == i)[0])\n",
    "    cluster_tour = np.array(cluster_t)\n",
    "    \n",
    "    #making breeding pool\n",
    "    breeding_pool[:NUM_FITTEST] = n_fittest(CITIES, pop, NUM_FITTEST) #add top fittest to breeding pool\n",
    "    \n",
    "    #fill the rest of the breeding pool by randomly sampling and taking the best of each sample\n",
    "    for i in range(NUM_FITTEST, pop_size):\n",
    "        alt_pop = pop.shape[0]\n",
    "        breeding_pool[i] = sample_best(CITIES, pop[np.random.randint(pop.shape[0], size = SAMPLE_NUM)], SAMPLE_NUM)\n",
    "        \n",
    "    #making children\n",
    "    pop[:NUM_FITTEST] = breeding_pool[:NUM_FITTEST] #adding the NUM_FITTEST parents as children\n",
    "    #pop = breeding_pool\n",
    "    \n",
    "    #crossover\n",
    "    for i in range(NUM_FITTEST, pop_size):\n",
    "        two_parents = pop[np.random.randint(pop.shape[0], size = 2)]\n",
    "        pop[i] = crossover(two_parents[0], two_parents[1])\n",
    "        pop[i] = crossover(pop[i],cluster_tour)\n",
    "        \n",
    "    #mutation\n",
    "    for i in range(pop_size):\n",
    "        for j in range(num_cities-1):\n",
    "            if(random.randint(0,MUT_NUM) == 1): #1/MUT_NUM chance of mutation for each element\n",
    "                possible_indices = np.where(labels == labels[j])[0]#RESTRICTED SWAPPING\n",
    "                swap_ind = possible_indices[random.randint(0,int(np.size(possible_indices))-1)]\n",
    "                \n",
    "                temp = pop[i,j+1]\n",
    "                pop[i,j+1] = pop[i,swap_ind]\n",
    "                pop[i,swap_ind] = temp\n",
    "    \n",
    "    for i in range(pop_size):\n",
    "        times[i] = tour_length(CITIES, pop[i,:])\n",
    "    best_times[iterations] = np.min(times)\n",
    "    print(\"Iteration \",iterations,\"took\",time.time() - start, \"seconds\")#uncomment this to see how long each gen takes\n",
    "    iterations += 1\n",
    "\n",
    "plt.rcParams[\"figure.figsize\"] = [7.5, 3.5]\n",
    "plt.rcParams[\"figure.autolayout\"] = True\n",
    "\n",
    "x = range(MAX_ITERATIONS)\n",
    "plt.plot(x, best_times, color=\"red\")"
   ]
  },
  {
   "cell_type": "code",
   "execution_count": 17,
   "id": "b166ef40",
   "metadata": {
    "scrolled": true
   },
   "outputs": [
    {
     "name": "stdout",
     "output_type": "stream",
     "text": [
      "The best time found was:\n",
      "118615797.7200555\n"
     ]
    }
   ],
   "source": [
    "print(\"The best time found was:\")\n",
    "print(np.min(best_times))"
   ]
  },
  {
   "cell_type": "markdown",
   "id": "398159b3",
   "metadata": {},
   "source": [
    "## Notes:"
   ]
  },
  {
   "cell_type": "markdown",
   "id": "928b1b47",
   "metadata": {},
   "source": [
    "The parameters for the above run is as follows:\n",
    "pop_size = 10<br>\n",
    "NUM_FITTEST = int(pop_size/10), so just keeping the top candidate from each generation<br>\n",
    "SAMPLE_NUM = 2 <br>\n",
    "MAX_ITERATIONS = 100 (stopping condition)<br>\n",
    "MUT_NUM = 100 (1/100 chance for each city in the tour to mutate)<br>\n",
    "\n",
    "Through some previous testing, there are some important notes about these parameters:\n",
    ">-SAMPLE_NUM <= pop_size, but it should generally be about 2/3 to maintain exploration (prevent convergence to a local min).<br>\n",
    ">-NUM_FITTEST should also be a relatively small portion of the population. I decided for my main run just to keep my top candidate because my population size was so small (population size has the greatest effect on how long it takes the program to run besides the number of iterations).<br>\n",
    ">-A smaller MUT_NUM has the greatest effect on exploration. Originally, I tested this with 1/10,000 because the dataset was so large, but I realized after restricting the mutation randomness with K-means, that a chance of 1/100 would be much more appropriate to attain convergence."
   ]
  },
  {
   "cell_type": "code",
   "execution_count": null,
   "id": "3c010b1e",
   "metadata": {},
   "outputs": [],
   "source": []
  }
 ],
 "metadata": {
  "kernelspec": {
   "display_name": "Python 3 (ipykernel)",
   "language": "python",
   "name": "python3"
  },
  "language_info": {
   "codemirror_mode": {
    "name": "ipython",
    "version": 3
   },
   "file_extension": ".py",
   "mimetype": "text/x-python",
   "name": "python",
   "nbconvert_exporter": "python",
   "pygments_lexer": "ipython3",
   "version": "3.9.7"
  }
 },
 "nbformat": 4,
 "nbformat_minor": 5
}
